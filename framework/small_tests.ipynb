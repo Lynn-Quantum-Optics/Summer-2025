{
 "cells": [
  {
   "cell_type": "code",
   "execution_count": null,
   "id": "7767d175",
   "metadata": {},
   "outputs": [],
   "source": [
    "import numpy as np\n",
    "import tensorflow as tf\n",
    "\n",
    "def partial_transpose(rho, subsys='B'):\n",
    "    \"\"\"\n",
    "    Helper function to compute the partial transpose of a density matrix. \n",
    "    Useful for the Peres-Horodecki criterion, which states that if the partial transpose \n",
    "    of a density matrix has at least one negative eigenvalue, then the state is entangled.\n",
    "    \n",
    "    Parameters:\n",
    "        rho: density matrix\n",
    "        subsys: which subsystem to compute partial transpose wrt, i.e. 'A' or 'B'\n",
    "    \"\"\"\n",
    "    # decompose rho into blocks\n",
    "    b1 = rho[:2, :2]\n",
    "    b2 = rho[:2, 2:]\n",
    "    b3 = rho[2:, :2]\n",
    "    b4 = rho[2:, 2:]\n",
    "\n",
    "    b12 = tf.concat([tf.transpose(b1), tf.transpose(b2)], axis=1)\n",
    "    b34 = tf.concat([tf.transpose(b3), tf.transpose(b4)], axis=1)\n",
    "    PT = tf.concat([b12, b34], axis=0)\n",
    "\n",
    "    if subsys=='B':\n",
    "        return PT\n",
    "    elif subsys=='A':\n",
    "        return tf.transpose(PT)"
   ]
  },
  {
   "cell_type": "code",
   "execution_count": 8,
   "id": "a2b9285e",
   "metadata": {},
   "outputs": [
    {
     "name": "stdout",
     "output_type": "stream",
     "text": [
      "tf.Tensor(\n",
      "[[0 0 0 0]\n",
      " [1 1 1 1]\n",
      " [0 0 0 0]\n",
      " [1 1 1 1]], shape=(4, 4), dtype=int32)\n"
     ]
    }
   ],
   "source": [
    "rho1 = tf.constant([[0, 1, 0, 1],\n",
    "                    [0, 1, 0, 1],\n",
    "                    [0, 1, 0, 1],\n",
    "                    [0, 1, 0, 1]])\n",
    "\n",
    "print(partial_transpose(rho1, subsys='B'))"
   ]
  },
  {
   "cell_type": "code",
   "execution_count": 9,
   "id": "cb4f9da6",
   "metadata": {},
   "outputs": [],
   "source": [
    "def np_partial_transpose(rho, subsys='B'):\n",
    "    \"\"\" \n",
    "    Helper function to compute the partial transpose of a density matrix. \n",
    "    Useful for the Peres-Horodecki criterion, which states that if the partial transpose \n",
    "    of a density matrix has at least one negative eigenvalue, then the state is entangled.\n",
    "    \n",
    "    Parameters:\n",
    "        rho: density matrix\n",
    "        subsys: which subsystem to compute partial transpose wrt, i.e. 'A' or 'B'\n",
    "    \"\"\"\n",
    "    # decompose rho into blocks\n",
    "    b1 = rho[:2, :2]\n",
    "    b2 = rho[:2, 2:]\n",
    "    b3 = rho[2:, :2]\n",
    "    b4 = rho[2:, 2:]\n",
    "\n",
    "    PT = np.array(np.block([[b1.T, b2.T], [b3.T, b4.T]]))\n",
    "\n",
    "    if subsys=='B':\n",
    "        return PT\n",
    "    elif subsys=='A':\n",
    "        return PT.T"
   ]
  },
  {
   "cell_type": "code",
   "execution_count": 10,
   "id": "c55dba92",
   "metadata": {},
   "outputs": [
    {
     "name": "stdout",
     "output_type": "stream",
     "text": [
      "[[0 0 0 0]\n",
      " [1 1 1 1]\n",
      " [0 0 0 0]\n",
      " [1 1 1 1]]\n"
     ]
    }
   ],
   "source": [
    "rho2 = np.array([[0, 1, 0, 1],\n",
    "                [0, 1, 0, 1],\n",
    "                [0, 1, 0, 1],\n",
    "                [0, 1, 0, 1]])\n",
    "\n",
    "print(np_partial_transpose(rho2, subsys='B'))"
   ]
  }
 ],
 "metadata": {
  "kernelspec": {
   "display_name": ".venv",
   "language": "python",
   "name": "python3"
  },
  "language_info": {
   "codemirror_mode": {
    "name": "ipython",
    "version": 3
   },
   "file_extension": ".py",
   "mimetype": "text/x-python",
   "name": "python",
   "nbconvert_exporter": "python",
   "pygments_lexer": "ipython3",
   "version": "3.10.6"
  }
 },
 "nbformat": 4,
 "nbformat_minor": 5
}
